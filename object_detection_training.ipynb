{
  "nbformat": 4,
  "nbformat_minor": 0,
  "metadata": {
    "accelerator": "GPU",
    "colab": {
      "name": "object_detection_training.ipynb",
      "provenance": [],
      "collapsed_sections": [],
      "include_colab_link": true
    },
    "kernelspec": {
      "display_name": "Python 3",
      "name": "python3"
    },
    "language_info": {
      "name": "python"
    }
  },
  "cells": [
    {
      "cell_type": "markdown",
      "metadata": {
        "id": "view-in-github",
        "colab_type": "text"
      },
      "source": [
        "<a href=\"https://colab.research.google.com/github/sabdha/Vehicle_and_Object_Detection_Tracking_Counting/blob/main/object_detection_training.ipynb\" target=\"_parent\"><img src=\"https://colab.research.google.com/assets/colab-badge.svg\" alt=\"Open In Colab\"/></a>"
      ]
    },
    {
      "cell_type": "markdown",
      "metadata": {
        "id": "P5V8UQZMcGgj"
      },
      "source": [
        "**Setting Up Workspace**"
      ]
    },
    {
      "cell_type": "markdown",
      "metadata": {
        "id": "zRM7U48ThNfK"
      },
      "source": [
        "For Installing Tensorflow version-2, run the cell below."
      ]
    },
    {
      "cell_type": "code",
      "metadata": {
        "id": "ZM3XIZxPgGsV"
      },
      "source": [
        "!pip install -U --pre tensorflow==\"2.5.0\""
      ],
      "execution_count": null,
      "outputs": []
    },
    {
      "cell_type": "code",
      "metadata": {
        "id": "AzDRTeOmLTIQ"
      },
      "source": [
        "!pip install tf_slim"
      ],
      "execution_count": null,
      "outputs": []
    },
    {
      "cell_type": "markdown",
      "metadata": {
        "id": "5BnAPEZzcgzv"
      },
      "source": [
        "**Cloning Model Repository**"
      ]
    },
    {
      "cell_type": "code",
      "metadata": {
        "id": "NFI1CvCEgPYs"
      },
      "source": [
        "import os\n",
        "import pathlib\n",
        "\n",
        "# Clone the tensorflow models repository if it doesn't already exist\n",
        "if \"models\" in pathlib.Path.cwd().parts:\n",
        "  while \"models\" in pathlib.Path.cwd().parts:\n",
        "    os.chdir('..')\n",
        "elif not pathlib.Path('models').exists():\n",
        "  !git clone --depth 1 https://github.com/tensorflow/models"
      ],
      "execution_count": null,
      "outputs": []
    },
    {
      "cell_type": "code",
      "metadata": {
        "id": "SufBihxoggsr"
      },
      "source": [
        "# Install the Object Detection API\n",
        "%%bash\n",
        "cd models/research/\n",
        "protoc object_detection/protos/*.proto --python_out=.\n",
        "cp object_detection/packages/tf2/setup.py .\n",
        "python -m pip install ."
      ],
      "execution_count": null,
      "outputs": []
    },
    {
      "cell_type": "markdown",
      "metadata": {
        "id": "WYR3pIbLeA9_"
      },
      "source": [
        "**Install COCO API**"
      ]
    },
    {
      "cell_type": "code",
      "metadata": {
        "id": "15REA6vrTwc9"
      },
      "source": [
        "!git clone http://github.com/cocodataset/cocoapi.git"
      ],
      "execution_count": null,
      "outputs": []
    },
    {
      "cell_type": "code",
      "metadata": {
        "id": "8bY715GNTy9o"
      },
      "source": [
        "cd cocoapi/PythonAPI"
      ],
      "execution_count": null,
      "outputs": []
    },
    {
      "cell_type": "code",
      "metadata": {
        "id": "NrVQGy0jT1ir"
      },
      "source": [
        "!make"
      ],
      "execution_count": null,
      "outputs": []
    },
    {
      "cell_type": "code",
      "metadata": {
        "id": "-HbjMHm4UOT7"
      },
      "source": [
        "cp -r pycocotools /content/models/research"
      ],
      "execution_count": null,
      "outputs": []
    },
    {
      "cell_type": "code",
      "metadata": {
        "id": "MCxFK5q2Ub4J"
      },
      "source": [
        "!python /content/models/research/object_detection/builders/model_builder_tf2_test.py"
      ],
      "execution_count": null,
      "outputs": []
    },
    {
      "cell_type": "code",
      "metadata": {
        "id": "JEwmfF4iURs1"
      },
      "source": [
        "!pwd"
      ],
      "execution_count": null,
      "outputs": []
    },
    {
      "cell_type": "code",
      "metadata": {
        "id": "ftEQN1zlUU60"
      },
      "source": [
        "cd .."
      ],
      "execution_count": null,
      "outputs": []
    },
    {
      "cell_type": "code",
      "metadata": {
        "id": "IsV7C_3FUasU"
      },
      "source": [
        "cd .."
      ],
      "execution_count": null,
      "outputs": []
    },
    {
      "cell_type": "markdown",
      "metadata": {
        "id": "mSOwpxLHHS-E"
      },
      "source": [
        "Path to save the pretrained model"
      ]
    },
    {
      "cell_type": "code",
      "metadata": {
        "id": "BtCxVQ3MUnoH"
      },
      "source": [
        "cd /content/train/pre-trained-demo"
      ],
      "execution_count": null,
      "outputs": []
    },
    {
      "cell_type": "markdown",
      "metadata": {
        "id": "FGQZt_sBecPO"
      },
      "source": [
        "**Download the Pre-trained Model**"
      ]
    },
    {
      "cell_type": "code",
      "metadata": {
        "id": "ZaN20MSlWSYG"
      },
      "source": [
        "!wget http://download.tensorflow.org/models/object_detection/tf2/20200711/ssd_mobilenet_v2_fpnlite_320x320_coco17_tpu-8.tar.gz"
      ],
      "execution_count": null,
      "outputs": []
    },
    {
      "cell_type": "code",
      "metadata": {
        "id": "61UsFJbFxIP2"
      },
      "source": [
        "!tar -xvfssd_mobilenet_v2_fpnlite_320x320_coco17_tpu-8.tar.gz"
      ],
      "execution_count": null,
      "outputs": []
    },
    {
      "cell_type": "markdown",
      "metadata": {
        "id": "jDnd6OVPzp-6"
      },
      "source": [
        "**Changes In Config File**\n",
        "\n",
        " \n",
        "```\n",
        "1. model {.....\n",
        "     num_classes: 1\n",
        "     .... }\n",
        "    }\n",
        "\n",
        "2. fine_tune_checkpoint: \"path to /checkpoint/ckpt-0\"\n",
        "   ......\n",
        "   fine_tune_checkpoint_type: \"detection\"\n",
        " \n",
        "3. train_input_reader {\n",
        "  label_map_path: \"path to label.pbxt\"\n",
        "  tf_record_input_reader {\n",
        "    input_path: \"path to train.record\"\n",
        "  }\n",
        "}\n",
        "\n",
        "4. eval_input_reader {\n",
        "  label_map_path: \"path to label.pbtxt\"\n",
        "  .......\n",
        " .........\n",
        "  tf_record_input_reader {\n",
        "    input_path: \"path to test.record\"\n",
        "  }\n",
        "}\n"
      ]
    },
    {
      "cell_type": "markdown",
      "metadata": {
        "id": "yomZU8-seobF"
      },
      "source": [
        "**Train the Model**\n",
        "\n",
        "Change the path of 'pipeline_config_path' and 'model_dir'.  \n",
        "  \n",
        "```!python /model_main_tf2.py \\\n",
        "--alsologtostderr \\\n",
        "--model_dir  'path to the directory where checkpoints are getting saved during training' \\\n",
        "--pipeline_config_path 'path to pipelineconfig file' ```"
      ]
    },
    {
      "cell_type": "code",
      "metadata": {
        "id": "sTyeALvdW6yl"
      },
      "source": [
        "#Change the model and path\n",
        "!python /content/models/research/object_detection/model_main_tf2.py \\\n",
        "--alsologtostderr \\\n",
        "--model_dir /content/model/checkpoints \\\n",
        "--pipeline_config_path /content/model/pipeline.config --num_eval_steps=20 --num_train_steps=9000 --sample_1_of_n_eval_examples=1 \\"
      ],
      "execution_count": null,
      "outputs": []
    },
    {
      "cell_type": "markdown",
      "metadata": {
        "id": "8HmBRclpfQ2C"
      },
      "source": [
        "**Evaluate Using Tensorboard**"
      ]
    },
    {
      "cell_type": "code",
      "metadata": {
        "id": "H4HI9KYE0Kor"
      },
      "source": [
        "!cd /content/models/research/object_detection/"
      ],
      "execution_count": null,
      "outputs": []
    },
    {
      "cell_type": "code",
      "metadata": {
        "id": "GjzOhEUT2Mfy"
      },
      "source": [
        "import tensorboard as tb"
      ],
      "execution_count": null,
      "outputs": []
    },
    {
      "cell_type": "code",
      "metadata": {
        "id": "Go3DyFnI7vFb"
      },
      "source": [
        "import tensorflow"
      ],
      "execution_count": null,
      "outputs": []
    },
    {
      "cell_type": "code",
      "metadata": {
        "id": "ZSFh_QTz7IAv"
      },
      "source": [
        "%load_ext tensorboard"
      ],
      "execution_count": null,
      "outputs": []
    },
    {
      "cell_type": "code",
      "metadata": {
        "id": "zs--__b97gkc"
      },
      "source": [
        "from tensorflow import keras"
      ],
      "execution_count": null,
      "outputs": []
    },
    {
      "cell_type": "code",
      "metadata": {
        "id": "81Bo_pd07le_"
      },
      "source": [
        "tensorboard_callback = tensorflow.keras.callbacks.TensorBoard(log_dir='/content/model/checkpoints', histogram_freq=1)"
      ],
      "execution_count": null,
      "outputs": []
    },
    {
      "cell_type": "code",
      "metadata": {
        "id": "ruXAVdC30emV"
      },
      "source": [
        "%tensorboard --logdir /content/model/checkpoints"
      ],
      "execution_count": null,
      "outputs": []
    },
    {
      "cell_type": "markdown",
      "metadata": {
        "id": "dgWS1uC5XYnm"
      },
      "source": [
        "Evaluation\n",
        "\n",
        "```!python /model_main_tf2.py \\\n",
        "--alsologtostderr \\\n",
        "--model_dir  'path to save the checkpoints' \\\n",
        "--pipeline_config_path 'path to pipelineconfig file' ```"
      ]
    },
    {
      "cell_type": "code",
      "metadata": {
        "id": "cFZXRudsvzrF"
      },
      "source": [
        "!python /content/models/research/object_detection/model_main_tf2.py \\\n",
        "--pipeline_config_path /content/model/pipeline.config \\\n",
        "--model_dir /content/model \\\n",
        "--checkpoint_dir /content/model/checkpoint"
      ],
      "execution_count": null,
      "outputs": []
    }
  ]
}